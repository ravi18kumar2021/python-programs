{
  "nbformat": 4,
  "nbformat_minor": 0,
  "metadata": {
    "colab": {
      "provenance": [],
      "include_colab_link": true
    },
    "kernelspec": {
      "name": "python3",
      "display_name": "Python 3"
    },
    "language_info": {
      "name": "python"
    }
  },
  "cells": [
    {
      "cell_type": "markdown",
      "metadata": {
        "id": "view-in-github",
        "colab_type": "text"
      },
      "source": [
        "<a href=\"https://colab.research.google.com/github/ravi18kumar2021/python-programs/blob/main/python_basics_programs.ipynb\" target=\"_parent\"><img src=\"https://colab.research.google.com/assets/colab-badge.svg\" alt=\"Open In Colab\"/></a>"
      ]
    },
    {
      "cell_type": "markdown",
      "source": [
        "### WAP to print the given strings as per stated format.\n",
        "\n",
        "**Given strings**:\n",
        "```\n",
        "\"apple\" \"red\" \"eat\"\n",
        "\"lion\" \"roar\"\n",
        "```\n",
        "**Output**:\n",
        "```\n",
        "apple-red-eat-consume-lion-roar\n",
        "```"
      ],
      "metadata": {
        "id": "2doIXf8bqe9_"
      }
    },
    {
      "cell_type": "code",
      "source": [
        "# code\n",
        "print(\"apple\", \"red\", \"eat\", sep=\"-\", end=\"-consume-\")\n",
        "print(\"lion\", \"roar\", sep=\"-\")"
      ],
      "metadata": {
        "id": "-em6d3KErDtp",
        "colab": {
          "base_uri": "https://localhost:8080/"
        },
        "outputId": "3e73a350-3a6f-43f6-eef5-7700a43914a9"
      },
      "execution_count": 1,
      "outputs": [
        {
          "output_type": "stream",
          "name": "stdout",
          "text": [
            "apple-red-eat-consume-lion-roar\n"
          ]
        }
      ]
    },
    {
      "cell_type": "markdown",
      "source": [
        "### WAP to Convert US Dollar (USD) to Indian Rupees (INR).\n",
        "*Note* - Check and use the current exchange rate."
      ],
      "metadata": {
        "id": "1KUpN7ZTrC3_"
      }
    },
    {
      "cell_type": "code",
      "source": [
        "# code\n",
        "USD_amount = 5\n",
        "INR_amount = 83.19 * USD_amount # change as per your need\n",
        "print(USD_amount, \"USD :\", INR_amount, \"INR\")"
      ],
      "metadata": {
        "id": "yxKYhYQiqWfj",
        "colab": {
          "base_uri": "https://localhost:8080/"
        },
        "outputId": "abb120ca-8ec7-47e9-ff81-af375cd2ca75"
      },
      "execution_count": 6,
      "outputs": [
        {
          "output_type": "stream",
          "name": "stdout",
          "text": [
            "5 USD : 415.95 INR\n"
          ]
        }
      ]
    },
    {
      "cell_type": "markdown",
      "source": [
        "### WAP to take 2 numbers as input from the user and swap the numbers without using any special python syntax."
      ],
      "metadata": {
        "id": "RLrOBBJurLB2"
      }
    },
    {
      "cell_type": "code",
      "source": [
        "# code\n",
        "num1 = int(input('Enter first number : '))\n",
        "num2 = int(input('Enter second number : '))\n",
        "print('Before swaping, first number :', num1, 'and second number :', num2)\n",
        "temp = num1\n",
        "num1 = num2\n",
        "num2 = temp\n",
        "print('After swaping, first number :', num1, 'and second number :', num2)"
      ],
      "metadata": {
        "id": "yPn7if0TrJ4F",
        "colab": {
          "base_uri": "https://localhost:8080/"
        },
        "outputId": "e62715ae-8e2d-46ff-c832-83e883b5b22b"
      },
      "execution_count": 7,
      "outputs": [
        {
          "output_type": "stream",
          "name": "stdout",
          "text": [
            "Enter first number : 53\n",
            "Enter second number : 18\n",
            "Before swaping, first number : 53 and second number : 18\n",
            "After swaping, first number : 18 and second number : 53\n"
          ]
        }
      ]
    },
    {
      "cell_type": "markdown",
      "source": [
        "### WAP to find the euclidean distance between two coordinates. Take both the coordinates from the user as input."
      ],
      "metadata": {
        "id": "waLCP1bjr7ML"
      }
    },
    {
      "cell_type": "code",
      "source": [
        "# code\n",
        "x1, y1 = input('Enter the first coordinate separated by comma : ').split(',')\n",
        "x2, y2 = input('Enter the second coordinate separated by comma : ').split(',')\n",
        "x1, x2, y1, y2 = int(x1), int(x2), int(y1), int(y2)\n",
        "euclidean_distance = round(((x1 - x2)**2 + (y1 - y2)**2)**0.5, 2)\n",
        "print('Euclidean distance : ', euclidean_distance)"
      ],
      "metadata": {
        "id": "Pl1Sv-xnrxnH",
        "colab": {
          "base_uri": "https://localhost:8080/"
        },
        "outputId": "402b94f3-6bfe-4692-f59a-a712e950bab2"
      },
      "execution_count": 5,
      "outputs": [
        {
          "output_type": "stream",
          "name": "stdout",
          "text": [
            "Enter the first coordinate separated by comma : 3,6\n",
            "Enter the second coordinate separated by comma : 2,7\n",
            "Euclidean distance :  1.41\n"
          ]
        }
      ]
    },
    {
      "cell_type": "markdown",
      "source": [
        "### WAP to find the BMI where user will provide their height (in cm) and weight (in kg)."
      ],
      "metadata": {
        "id": "iiWsNGSoTekj"
      }
    },
    {
      "cell_type": "code",
      "source": [
        "# code\n",
        "height = float(input(\"Enter the height : \"))\n",
        "weight = float(input(\"Enter the weight : \"))\n",
        "height_meters = height / 100 # convert height in cm into m\n",
        "bmi = round(weight / (height_meters ** 2), 2)\n",
        "print(\"BMI :\", bmi, \"kg/m2\")"
      ],
      "metadata": {
        "colab": {
          "base_uri": "https://localhost:8080/"
        },
        "id": "L141K_H4UEHB",
        "outputId": "0de3977a-b846-4a9d-f436-53958c822ba6"
      },
      "execution_count": 9,
      "outputs": [
        {
          "output_type": "stream",
          "name": "stdout",
          "text": [
            "Enter the height : 170\n",
            "Enter the weight : 64\n",
            "BMI : 22.15 kg/m2\n"
          ]
        }
      ]
    },
    {
      "cell_type": "markdown",
      "source": [
        "### WAP to find the simple interest when the value of principle, rate of interest and time period is provided by the user.\n"
      ],
      "metadata": {
        "id": "VLrhg-FRsHjR"
      }
    },
    {
      "cell_type": "code",
      "source": [
        "# code\n",
        "p = int(input('Enter principle amount : '))\n",
        "r = float(input('Enter rate of interest : '))\n",
        "t = int(input('Enter time period of interest : '))\n",
        "SI = p * r * t / 1000\n",
        "print('Simple Interest :', SI)"
      ],
      "metadata": {
        "id": "s40DlReZsTmY",
        "colab": {
          "base_uri": "https://localhost:8080/"
        },
        "outputId": "13d02ac9-9c1a-4c36-bec5-c0adfed9be69"
      },
      "execution_count": 10,
      "outputs": [
        {
          "output_type": "stream",
          "name": "stdout",
          "text": [
            "Enter principle amount : 12000\n",
            "Enter rate of interest : 0.6\n",
            "Enter time period of interest : 3\n",
            "Simple Interest : 21600.0\n"
          ]
        }
      ]
    },
    {
      "cell_type": "markdown",
      "source": [
        "### WAP that will tell the number of cats and parrots when the user will provide the value of total heads and legs.\n",
        "\n",
        "For example:\n",
        "Input:\n",
        "heads -> 4\n",
        "legs -> 12\n",
        "<br>\n",
        "Output:\n",
        "cats -> 2\n",
        "parrots -> 2\n",
        "\n",
        "\n",
        "\n"
      ],
      "metadata": {
        "id": "LMy0BTUktYKa"
      }
    },
    {
      "cell_type": "markdown",
      "source": [
        "Mathematical equations:-\n",
        "<br>\n",
        "eq1: ```number of cats + number of parrots = number of heads```\n",
        "<br>\n",
        "eq2: ```number of cats * 4 + number of parrots * 2 = number of legs```\n",
        "<br>\n",
        "Using eq1 and eq2,\n",
        "<br>\n",
        "```number of cats * 4 + (number of heads - number of cats) * 2 = number of legs```\n",
        "<br>\n",
        "```number of cats * 4 + number of heads * 2 - number of cats * 2 = number of legs```\n",
        "<br>\n",
        "```number of cats * 2 = number of legs - number of heads * 2```\n",
        "<br>\n",
        "```number of cats = (number of legs - number of heads * 2) / 2```\n",
        "\n"
      ],
      "metadata": {
        "id": "HAGv4Bxea8PD"
      }
    },
    {
      "cell_type": "code",
      "source": [
        "# code\n",
        "heads = int(input('Enter number of heads : '))\n",
        "legs = int(input('Enter number of legs : '))\n",
        "cats = int((legs - heads * 2) / 2)\n",
        "parrots = heads - cats\n",
        "print(\"cats :\", cats, \"and parrots :\", parrots)"
      ],
      "metadata": {
        "id": "XSBvJoA4tXaG",
        "colab": {
          "base_uri": "https://localhost:8080/"
        },
        "outputId": "6e174e8c-4584-4fd6-f886-a5ac79bca6f9"
      },
      "execution_count": 13,
      "outputs": [
        {
          "output_type": "stream",
          "name": "stdout",
          "text": [
            "Enter number of heads : 4\n",
            "Enter number of legs : 12\n",
            "cats : 2 and parrots : 2\n"
          ]
        }
      ]
    },
    {
      "cell_type": "markdown",
      "source": [
        "### WAP to find the sum of squares of first n natural numbers where n will be provided by the user."
      ],
      "metadata": {
        "id": "gJ7C5kZYt4BP"
      }
    },
    {
      "cell_type": "code",
      "source": [
        "# code\n",
        "num = int(input('Enter a number : '))\n",
        "result = 0\n",
        "for i in range(1, num + 1):\n",
        "  result = result + i**2\n",
        "print('Sum of squares of first', num, 'natural numbers is', result)"
      ],
      "metadata": {
        "id": "_tHsmEHzt2nX",
        "colab": {
          "base_uri": "https://localhost:8080/"
        },
        "outputId": "a0dc5595-5aee-4097-f0ef-4ae9715fab57"
      },
      "execution_count": 15,
      "outputs": [
        {
          "output_type": "stream",
          "name": "stdout",
          "text": [
            "Enter a number : 6\n",
            "Sum of squares of first 6 natural numbers is 91\n"
          ]
        }
      ]
    },
    {
      "cell_type": "code",
      "source": [
        "# code (using mathematical formula) : sum = [n * (n + 1) * (2n + 1)]/6\n",
        "num = int(input('Enter a number : '))\n",
        "result = int((num * (num + 1) * (2 * num + 1))/6)\n",
        "print('Sum of squares of first', num, 'natural numbers is', result)"
      ],
      "metadata": {
        "colab": {
          "base_uri": "https://localhost:8080/"
        },
        "id": "SGxUP10weZJ8",
        "outputId": "ff0c0742-4fba-4518-a86e-11783e52488c"
      },
      "execution_count": 16,
      "outputs": [
        {
          "output_type": "stream",
          "name": "stdout",
          "text": [
            "Enter a number : 6\n",
            "Sum of squares of first 6 natural numbers is 91\n"
          ]
        }
      ]
    },
    {
      "cell_type": "markdown",
      "source": [
        "### WAP to calculate the nth term of an arithmetic series, where all the inputs are provided by the user."
      ],
      "metadata": {
        "id": "FHrMM7g-yG1h"
      }
    },
    {
      "cell_type": "code",
      "source": [
        "# code (using mathematical formula) : an = a1 + (n - 1) * d\n",
        "first_num = int(input('Enter first num of the series : '))\n",
        "second_num = int(input('Enter second num of the series : '))\n",
        "find_num = int(input('Enter n : '))\n",
        "difference = (second_num - first_num)\n",
        "nth_term = first_num +  (find_num - 1) * difference\n",
        "print('Nth Term of the provided series is', nth_term)"
      ],
      "metadata": {
        "id": "go4_kmZmyVSx",
        "colab": {
          "base_uri": "https://localhost:8080/"
        },
        "outputId": "5653c4c6-27be-4613-929b-8d9e6422e3af"
      },
      "execution_count": 17,
      "outputs": [
        {
          "output_type": "stream",
          "name": "stdout",
          "text": [
            "Enter first num of the series : 12\n",
            "Enter second num of the series : 17\n",
            "Enter n : 12\n",
            "Nth Term of the provided series is 67\n"
          ]
        }
      ]
    },
    {
      "cell_type": "markdown",
      "source": [
        "### Q9:- Given 2 fractions, find the sum of those 2 fractions.Take the numerator and denominator values of the fractions from the user."
      ],
      "metadata": {
        "id": "QgyRX_es1oum"
      }
    },
    {
      "cell_type": "code",
      "source": [
        "# code\n",
        "num1 = int(input(\"Enter first numerator : \"))\n",
        "den1 = int(input(\"Enter first denominator : \"))\n",
        "num2 = int(input(\"Enter second numerator : \"))\n",
        "den2 = int(input(\"Enter second denominator : \"))\n",
        "final_numerator = (num1 * den2) + (num2 * den1)\n",
        "final_denominator = den1 * den2\n",
        "print(\"Sum of the fraction = \", final_numerator, \"/\", final_denominator, sep=\"\")"
      ],
      "metadata": {
        "colab": {
          "base_uri": "https://localhost:8080/"
        },
        "id": "R5zvzm2zh0fL",
        "outputId": "875cd0f4-a135-4a4a-b41c-0a974851d8a3"
      },
      "execution_count": 26,
      "outputs": [
        {
          "output_type": "stream",
          "name": "stdout",
          "text": [
            "Enter first numerator : 1\n",
            "Enter first denominator : 2\n",
            "Enter second numerator : 1\n",
            "Enter second denominator : 2\n",
            "Sum of the fraction = 4/4\n"
          ]
        }
      ]
    },
    {
      "cell_type": "code",
      "source": [
        "# Write your code here\n",
        "num1 = int(input(\"Enter first numerator : \"))\n",
        "den1 = int(input(\"Enter first denominator : \"))\n",
        "num2 = int(input(\"Enter second numerator : \"))\n",
        "den2 = int(input(\"Enter second denominator : \"))\n",
        "if den1 == den2: # case : same denominator\n",
        "  num3 = num1 + num2\n",
        "  den3 = den1\n",
        "else: # case : different denominator\n",
        "  num3 = num1*den2 + num2*den1\n",
        "  den3 = den1*den2\n",
        "temp = 1\n",
        "if num3 > den3:\n",
        "  for i in range(2, num3 + 1):\n",
        "    if num3%i==0 and den3%i==0:\n",
        "      temp = i\n",
        "else:\n",
        "  for j in range(2, den3 + 1):\n",
        "    if num3%j==0 and den3%j==0:\n",
        "      temp = j\n",
        "num3 = num3//temp\n",
        "den3 = den3//temp\n",
        "if den3 == 1:\n",
        "  print('Sum of fraction :', num3)\n",
        "else:\n",
        "  print('Sum of fraction : ', num3, '/', den3, sep='')"
      ],
      "metadata": {
        "id": "X05xqFS1yW16",
        "colab": {
          "base_uri": "https://localhost:8080/"
        },
        "outputId": "22778e2c-0505-493d-af8a-5406ccdd5ff9"
      },
      "execution_count": 28,
      "outputs": [
        {
          "output_type": "stream",
          "name": "stdout",
          "text": [
            "Enter first numerator : 5\n",
            "Enter first denominator : 7\n",
            "Enter second numerator : 8\n",
            "Enter second denominator : 9\n",
            "Sum of fraction : 101/63\n"
          ]
        }
      ]
    },
    {
      "cell_type": "markdown",
      "source": [
        "### Given the height, width and breadth of a milk tank. WAP to find out how many glasses of milk can be obtained? Assume all the inputs are provided by the user.\n",
        "\n",
        "\n",
        "\n",
        "Input:<br>\n",
        "Dimensions of the milk tank<br>\n",
        "H = 20cm, L = 20cm, B = 20cm\n",
        "<br><br>\n",
        "Dimensions of the glass<br>\n",
        "h = 3cm, r = 1cm"
      ],
      "metadata": {
        "id": "eaql38ln13u7"
      }
    },
    {
      "cell_type": "code",
      "source": [
        "H = int(input(\"Enter the height of tank : \"))\n",
        "W = int(input(\"Enter the width of tank : \"))\n",
        "B = int(input(\"Enter the breadth of tank : \"))\n",
        "h = int(input(\"Enter the height of glass : \"))\n",
        "r = int(input(\"Enter the radius of glass : \"))\n",
        "V1 = H * W * B\n",
        "V2 = 3.14 * r * r * h\n",
        "glasses = int(V1 // V2)\n",
        "print(\"Number of milk glasses required :\", glasses)"
      ],
      "metadata": {
        "colab": {
          "base_uri": "https://localhost:8080/"
        },
        "id": "Tw6UO6oJmcWl",
        "outputId": "62f6dc9b-b99c-45a4-bb51-26b3567e0ecb"
      },
      "execution_count": 29,
      "outputs": [
        {
          "output_type": "stream",
          "name": "stdout",
          "text": [
            "Enter the height of tank : 20\n",
            "Enter the width of tank : 20\n",
            "Enter the breadth of tank : 20\n",
            "Enter the height of glass : 3\n",
            "Enter the radius of glass : 1\n",
            "Number of milk glasses required : 849\n"
          ]
        }
      ]
    }
  ]
}