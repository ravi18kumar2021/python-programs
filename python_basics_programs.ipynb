{
  "nbformat": 4,
  "nbformat_minor": 0,
  "metadata": {
    "colab": {
      "provenance": []
    },
    "kernelspec": {
      "name": "python3",
      "display_name": "Python 3"
    },
    "language_info": {
      "name": "python"
    }
  },
  "cells": [
    {
      "cell_type": "markdown",
      "source": [
        "### WAP to print the given strings as per stated format.\n",
        "\n",
        "**Given strings**:\n",
        "```\n",
        "\"apple\" \"red\" \"eat\"\n",
        "\"lion\" \"roar\"\n",
        "```\n",
        "**Output**:\n",
        "```\n",
        "apple-red-eat-consume-lion-roar\n",
        "```"
      ],
      "metadata": {
        "id": "2doIXf8bqe9_"
      }
    },
    {
      "cell_type": "code",
      "source": [
        "# code\n",
        "print(\"apple\", \"red\", \"eat\", sep=\"-\", end=\"-consume-\")\n",
        "print(\"lion\", \"roar\", sep=\"-\")"
      ],
      "metadata": {
        "id": "-em6d3KErDtp",
        "colab": {
          "base_uri": "https://localhost:8080/"
        },
        "outputId": "70b06ea6-c3af-41be-f584-8141a0240849"
      },
      "execution_count": null,
      "outputs": [
        {
          "output_type": "stream",
          "name": "stdout",
          "text": [
            "apple-red-eat-consume-lion-roar\n"
          ]
        }
      ]
    },
    {
      "cell_type": "markdown",
      "source": [
        "### WAP to Convert US Dollar (USD) to Indian Rupees (INR).\n",
        "*Note* - Check and use the current exchange rate."
      ],
      "metadata": {
        "id": "1KUpN7ZTrC3_"
      }
    },
    {
      "cell_type": "code",
      "source": [
        "# code\n",
        "USD_amount = 5\n",
        "INR_amount = 83.19 * USD_amount # change as per your need\n",
        "print(USD_amount, \"USD :\", INR_amount, \"INR\")"
      ],
      "metadata": {
        "id": "yxKYhYQiqWfj",
        "colab": {
          "base_uri": "https://localhost:8080/"
        },
        "outputId": "bf1913ac-cf7f-4976-f15d-8ab82952b197"
      },
      "execution_count": null,
      "outputs": [
        {
          "output_type": "stream",
          "name": "stdout",
          "text": [
            "5 USD : 415.95 INR\n"
          ]
        }
      ]
    },
    {
      "cell_type": "markdown",
      "source": [
        "### WAP to take 2 numbers as input from the user and swap the numbers without using any special python syntax."
      ],
      "metadata": {
        "id": "RLrOBBJurLB2"
      }
    },
    {
      "cell_type": "code",
      "source": [
        "# code\n",
        "num1 = int(input('Enter first number : '))\n",
        "num2 = int(input('Enter second number : '))\n",
        "print('Before swaping, first number :', num1, 'and second number :', num2)\n",
        "temp = num1\n",
        "num1 = num2\n",
        "num2 = temp\n",
        "print('After swaping, first number :', num1, 'and second number :', num2)"
      ],
      "metadata": {
        "id": "yPn7if0TrJ4F",
        "colab": {
          "base_uri": "https://localhost:8080/"
        },
        "outputId": "765344a9-884b-43d0-a04f-ea59f7b720a2"
      },
      "execution_count": null,
      "outputs": [
        {
          "output_type": "stream",
          "name": "stdout",
          "text": [
            "Enter first number : 4\n",
            "Enter second number : 7\n",
            "Before swaping, first number : 4 and second number : 7\n",
            "After swaping, first number : 7 and second number : 4\n"
          ]
        }
      ]
    },
    {
      "cell_type": "markdown",
      "source": [
        "### WAP to find the euclidean distance between two coordinates. Take both the coordinates from the user as input."
      ],
      "metadata": {
        "id": "waLCP1bjr7ML"
      }
    },
    {
      "cell_type": "code",
      "source": [
        "# code\n",
        "x1, y1 = input('Enter the first coordinate separated by comma : ').split(',')\n",
        "x2, y2 = input('Enter the second coordinate separated by comma : ').split(',')\n",
        "x1, x2, y1, y2 = int(x1), int(x2), int(y1), int(y2)\n",
        "euclidean_distance = round(((x1 - x2)**2 + (y1 - y2)**2)**0.5, 2)\n",
        "print('Euclidean distance : ', euclidean_distance)"
      ],
      "metadata": {
        "id": "Pl1Sv-xnrxnH",
        "colab": {
          "base_uri": "https://localhost:8080/"
        },
        "outputId": "48b3c3f6-d57c-4582-cc1c-00a9fec75ccb"
      },
      "execution_count": null,
      "outputs": [
        {
          "output_type": "stream",
          "name": "stdout",
          "text": [
            "Enter the first coordinate separated by comma : 4,6\n",
            "Enter the second coordinate separated by comma : 2,7\n",
            "Euclidean distance :  2.24\n"
          ]
        }
      ]
    },
    {
      "cell_type": "markdown",
      "source": [
        "### WAP to find the BMI where user will provide their height (in cm) and weight (in kg)."
      ],
      "metadata": {
        "id": "iiWsNGSoTekj"
      }
    },
    {
      "cell_type": "code",
      "source": [
        "# code\n",
        "height = float(input(\"Enter the height : \"))\n",
        "weight = float(input(\"Enter the weight : \"))\n",
        "height_meters = height / 100 # convert height in cm into m\n",
        "bmi = round(weight / (height_meters ** 2), 2)\n",
        "print(\"BMI :\", bmi, \"kg/m2\")"
      ],
      "metadata": {
        "colab": {
          "base_uri": "https://localhost:8080/"
        },
        "id": "L141K_H4UEHB",
        "outputId": "f3c39176-4e1e-4dc8-ae61-8ed4c9c2b24d"
      },
      "execution_count": null,
      "outputs": [
        {
          "output_type": "stream",
          "name": "stdout",
          "text": [
            "Enter the height : 170\n",
            "Enter the weight : 64\n",
            "BMI : 22.15 kg/m2\n"
          ]
        }
      ]
    },
    {
      "cell_type": "markdown",
      "source": [
        "### WAP to find the simple interest when the value of principle, rate of interest and time period is provided by the user.\n"
      ],
      "metadata": {
        "id": "VLrhg-FRsHjR"
      }
    },
    {
      "cell_type": "code",
      "source": [
        "# code\n",
        "p = int(input('Enter principle amount : '))\n",
        "r = float(input('Enter rate of interest : '))\n",
        "t = int(input('Enter time period of interest : '))\n",
        "SI = p * r * t / 100\n",
        "print('Simple Interest :', SI)"
      ],
      "metadata": {
        "id": "s40DlReZsTmY",
        "colab": {
          "base_uri": "https://localhost:8080/"
        },
        "outputId": "22e561aa-721b-4f3a-e597-a3c5310e2579"
      },
      "execution_count": null,
      "outputs": [
        {
          "output_type": "stream",
          "name": "stdout",
          "text": [
            "Enter principle amount : 7000\n",
            "Enter rate of interest : 2.5\n",
            "Enter time period of interest : 3\n",
            "Simple Interest : 525.0\n"
          ]
        }
      ]
    },
    {
      "cell_type": "markdown",
      "source": [
        "### WAP that will tell the number of cats and parrots when the user will provide the value of total heads and legs.\n",
        "\n",
        "For example:\n",
        "Input:\n",
        "heads -> 4\n",
        "legs -> 12\n",
        "<br>\n",
        "Output:\n",
        "cats -> 2\n",
        "parrots -> 2\n",
        "\n",
        "\n",
        "\n"
      ],
      "metadata": {
        "id": "LMy0BTUktYKa"
      }
    },
    {
      "cell_type": "markdown",
      "source": [
        "Mathematical equations:-\n",
        "<br>\n",
        "eq1: ```number of cats + number of parrots = number of heads```\n",
        "<br>\n",
        "eq2: ```number of cats * 4 + number of parrots * 2 = number of legs```\n",
        "<br>\n",
        "Using eq1 and eq2,\n",
        "<br>\n",
        "```number of cats * 4 + (number of heads - number of cats) * 2 = number of legs```\n",
        "<br>\n",
        "```number of cats * 4 + number of heads * 2 - number of cats * 2 = number of legs```\n",
        "<br>\n",
        "```number of cats * 2 = number of legs - number of heads * 2```\n",
        "<br>\n",
        "```number of cats = (number of legs - number of heads * 2) / 2```\n",
        "\n"
      ],
      "metadata": {
        "id": "HAGv4Bxea8PD"
      }
    },
    {
      "cell_type": "code",
      "source": [
        "# code\n",
        "heads = int(input('Enter number of heads : '))\n",
        "legs = int(input('Enter number of legs : '))\n",
        "cats = int((legs - heads * 2) / 2)\n",
        "parrots = heads - cats\n",
        "print(\"cats :\", cats, \"and parrots :\", parrots)"
      ],
      "metadata": {
        "id": "XSBvJoA4tXaG",
        "colab": {
          "base_uri": "https://localhost:8080/"
        },
        "outputId": "14c42dd7-6a91-46d5-c8ba-8995f139d442"
      },
      "execution_count": null,
      "outputs": [
        {
          "output_type": "stream",
          "name": "stdout",
          "text": [
            "Enter number of heads : 4\n",
            "Enter number of legs : 12\n",
            "cats : 2 and parrots : 2\n"
          ]
        }
      ]
    },
    {
      "cell_type": "markdown",
      "source": [
        "### WAP to find the sum of squares of first n natural numbers where n will be provided by the user."
      ],
      "metadata": {
        "id": "gJ7C5kZYt4BP"
      }
    },
    {
      "cell_type": "code",
      "source": [
        "# code\n",
        "num = int(input('Enter a number : '))\n",
        "result = 0\n",
        "for i in range(1, num + 1):\n",
        "  result = result + i**2\n",
        "print('Sum of squares of first', num, 'natural numbers is', result)"
      ],
      "metadata": {
        "id": "_tHsmEHzt2nX",
        "colab": {
          "base_uri": "https://localhost:8080/"
        },
        "outputId": "e530d747-642a-45bb-9e4d-c6679f127a25"
      },
      "execution_count": null,
      "outputs": [
        {
          "output_type": "stream",
          "name": "stdout",
          "text": [
            "Enter a number : 12\n",
            "Sum of squares of first 12 natural numbers is 650\n"
          ]
        }
      ]
    },
    {
      "cell_type": "code",
      "source": [
        "# code (using mathematical formula) : sum = [n * (n + 1) * (2n + 1)]/6\n",
        "num = int(input('Enter a number : '))\n",
        "result = int((num * (num + 1) * (2 * num + 1))/6)\n",
        "print('Sum of squares of first', num, 'natural numbers is', result)"
      ],
      "metadata": {
        "colab": {
          "base_uri": "https://localhost:8080/"
        },
        "id": "SGxUP10weZJ8",
        "outputId": "22752d33-d379-4605-d6e9-86166c455172"
      },
      "execution_count": null,
      "outputs": [
        {
          "output_type": "stream",
          "name": "stdout",
          "text": [
            "Enter a number : 8\n",
            "Sum of squares of first 8 natural numbers is 204\n"
          ]
        }
      ]
    },
    {
      "cell_type": "markdown",
      "source": [
        "### WAP to calculate the nth term of an arithmetic series, where all the inputs are provided by the user."
      ],
      "metadata": {
        "id": "FHrMM7g-yG1h"
      }
    },
    {
      "cell_type": "code",
      "source": [
        "# code (using mathematical formula) : an = a1 + (n - 1) * d\n",
        "first_num = int(input('Enter first num of the series : '))\n",
        "second_num = int(input('Enter second num of the series : '))\n",
        "find_num = int(input('Enter n : '))\n",
        "difference = (second_num - first_num)\n",
        "nth_term = first_num +  (find_num - 1) * difference\n",
        "print('Nth Term of the provided series is', nth_term)"
      ],
      "metadata": {
        "id": "go4_kmZmyVSx",
        "colab": {
          "base_uri": "https://localhost:8080/"
        },
        "outputId": "42232e01-cac4-4255-db70-3b9f554cebca"
      },
      "execution_count": null,
      "outputs": [
        {
          "output_type": "stream",
          "name": "stdout",
          "text": [
            "Enter first num of the series : 4\n",
            "Enter second num of the series : 7\n",
            "Enter n : 12\n",
            "Nth Term of the provided series is 37\n"
          ]
        }
      ]
    },
    {
      "cell_type": "markdown",
      "source": [
        "### Given 2 fractions, find the sum of those 2 fractions.Take the numerator and denominator values of the fractions from the user."
      ],
      "metadata": {
        "id": "QgyRX_es1oum"
      }
    },
    {
      "cell_type": "code",
      "source": [
        "# code\n",
        "num1 = int(input(\"Enter first numerator : \"))\n",
        "den1 = int(input(\"Enter first denominator : \"))\n",
        "num2 = int(input(\"Enter second numerator : \"))\n",
        "den2 = int(input(\"Enter second denominator : \"))\n",
        "final_numerator = (num1 * den2) + (num2 * den1)\n",
        "final_denominator = den1 * den2\n",
        "print(\"Sum of the fraction = \", final_numerator, \"/\", final_denominator, sep=\"\")"
      ],
      "metadata": {
        "colab": {
          "base_uri": "https://localhost:8080/"
        },
        "id": "R5zvzm2zh0fL",
        "outputId": "f706546f-12f8-4884-ec5b-084cdabc91a1"
      },
      "execution_count": null,
      "outputs": [
        {
          "output_type": "stream",
          "name": "stdout",
          "text": [
            "Enter first numerator : 4\n",
            "Enter first denominator : 7\n",
            "Enter second numerator : 3\n",
            "Enter second denominator : 11\n",
            "Sum of the fraction = 65/77\n"
          ]
        }
      ]
    },
    {
      "cell_type": "code",
      "source": [
        "# Write your code here\n",
        "num1 = int(input(\"Enter first numerator : \"))\n",
        "den1 = int(input(\"Enter first denominator : \"))\n",
        "num2 = int(input(\"Enter second numerator : \"))\n",
        "den2 = int(input(\"Enter second denominator : \"))\n",
        "if den1 == den2: # case : same denominator\n",
        "  num3 = num1 + num2\n",
        "  den3 = den1\n",
        "else: # case : different denominator\n",
        "  num3 = num1*den2 + num2*den1\n",
        "  den3 = den1*den2\n",
        "temp = 1\n",
        "if num3 > den3:\n",
        "  for i in range(2, num3 + 1):\n",
        "    if num3%i==0 and den3%i==0:\n",
        "      temp = i\n",
        "else:\n",
        "  for j in range(2, den3 + 1):\n",
        "    if num3%j==0 and den3%j==0:\n",
        "      temp = j\n",
        "num3 = num3//temp\n",
        "den3 = den3//temp\n",
        "if den3 == 1:\n",
        "  print('Sum of fraction :', num3)\n",
        "else:\n",
        "  print('Sum of fraction : ', num3, '/', den3, sep='')"
      ],
      "metadata": {
        "id": "X05xqFS1yW16",
        "colab": {
          "base_uri": "https://localhost:8080/"
        },
        "outputId": "74bcc682-1948-431a-9be8-db03249e6d9f"
      },
      "execution_count": null,
      "outputs": [
        {
          "output_type": "stream",
          "name": "stdout",
          "text": [
            "Enter first numerator : 4\n",
            "Enter first denominator : 14\n",
            "Enter second numerator : 12\n",
            "Enter second denominator : 8\n",
            "Sum of fraction : 25/14\n"
          ]
        }
      ]
    },
    {
      "cell_type": "markdown",
      "source": [
        "### Given the height, width and breadth of a milk tank. WAP to find out how many glasses of milk can be obtained? Assume all the inputs are provided by the user.\n",
        "\n",
        "\n",
        "\n",
        "Input:<br>\n",
        "Dimensions of the milk tank<br>\n",
        "H = 20cm, L = 20cm, B = 20cm\n",
        "<br><br>\n",
        "Dimensions of the glass<br>\n",
        "h = 3cm, r = 1cm"
      ],
      "metadata": {
        "id": "eaql38ln13u7"
      }
    },
    {
      "cell_type": "code",
      "source": [
        "H = int(input(\"Enter the height of tank : \"))\n",
        "W = int(input(\"Enter the width of tank : \"))\n",
        "B = int(input(\"Enter the breadth of tank : \"))\n",
        "h = int(input(\"Enter the height of glass : \"))\n",
        "r = int(input(\"Enter the radius of glass : \"))\n",
        "V1 = H * W * B\n",
        "V2 = 3.14 * r * r * h\n",
        "glasses = int(V1 // V2)\n",
        "print(\"Number of milk glasses required :\", glasses)"
      ],
      "metadata": {
        "colab": {
          "base_uri": "https://localhost:8080/"
        },
        "id": "Tw6UO6oJmcWl",
        "outputId": "5e5f70c6-aee4-4991-df95-06d686bc68d3"
      },
      "execution_count": null,
      "outputs": [
        {
          "output_type": "stream",
          "name": "stdout",
          "text": [
            "Enter the height of tank : 20\n",
            "Enter the width of tank : 20\n",
            "Enter the breadth of tank : 20\n",
            "Enter the height of glass : 3\n",
            "Enter the radius of glass : 1\n",
            "Number of milk glasses required : 849\n"
          ]
        }
      ]
    }
  ]
}