{
  "nbformat": 4,
  "nbformat_minor": 0,
  "metadata": {
    "colab": {
      "provenance": [],
      "authorship_tag": "ABX9TyNUi17grAzuIdtuBjynEYbq",
      "include_colab_link": true
    },
    "kernelspec": {
      "name": "python3",
      "display_name": "Python 3"
    },
    "language_info": {
      "name": "python"
    }
  },
  "cells": [
    {
      "cell_type": "markdown",
      "metadata": {
        "id": "view-in-github",
        "colab_type": "text"
      },
      "source": [
        "<a href=\"https://colab.research.google.com/github/ravi18kumar2021/python-programs/blob/main/Python_programs_1.ipynb\" target=\"_parent\"><img src=\"https://colab.research.google.com/assets/colab-badge.svg\" alt=\"Open In Colab\"/></a>"
      ]
    },
    {
      "cell_type": "markdown",
      "source": [
        "## Operators\n",
        "Q. Write a Python program to calculate the total cost of a purchase including tax and discount."
      ],
      "metadata": {
        "id": "CAs4z7gHeSio"
      }
    },
    {
      "cell_type": "code",
      "execution_count": 2,
      "metadata": {
        "colab": {
          "base_uri": "https://localhost:8080/"
        },
        "id": "e60cKA_beGTb",
        "outputId": "ba9b05ad-2d52-40cc-f415-28f9a41f6aee"
      },
      "outputs": [
        {
          "output_type": "stream",
          "name": "stdout",
          "text": [
            "Enter the base amount : 420\n",
            "The total cost : 746.0\n"
          ]
        }
      ],
      "source": [
        "base_rate = float(input('Enter the base amount : '))\n",
        "tax_rate = 0.8\n",
        "discount_amount = 10\n",
        "print('The total cost :', base_rate + (base_rate * tax_rate) - discount_amount)"
      ]
    },
    {
      "cell_type": "markdown",
      "source": [
        "Q. Write a Python script to calculate the speed of an object given the distance traveled and the time taken."
      ],
      "metadata": {
        "id": "S5weghT0ebAw"
      }
    },
    {
      "cell_type": "code",
      "source": [
        "# speed = distance / time\n",
        "distance = 300 # km\n",
        "time = 14 # hours\n",
        "speed = distance / time\n",
        "print('The speed of an object is :', round(speed, 2), 'km/hr')"
      ],
      "metadata": {
        "colab": {
          "base_uri": "https://localhost:8080/"
        },
        "id": "r1tpeVl_eb7I",
        "outputId": "2a80b55a-6e81-42e6-d0a6-b25003d7e482"
      },
      "execution_count": 9,
      "outputs": [
        {
          "output_type": "stream",
          "name": "stdout",
          "text": [
            "The speed of an object is : 21.43 km/hr\n"
          ]
        }
      ]
    },
    {
      "cell_type": "markdown",
      "source": [
        "Q. Write a Python program to determine whether a given year is a leap year or not."
      ],
      "metadata": {
        "id": "jJiHrZXYg9_o"
      }
    },
    {
      "cell_type": "code",
      "source": [
        "year = int(input('Enter a year : '))\n",
        "is_leap_year = (year % 4 == 0) and (year % 100 != 0) or (year % 400 == 0)\n",
        "print('{} is'.format(year), 'a leap year' * is_leap_year + 'not a leap year' * (not is_leap_year))"
      ],
      "metadata": {
        "colab": {
          "base_uri": "https://localhost:8080/"
        },
        "id": "pc3DmFZIgLuc",
        "outputId": "2546e68f-b0b5-48a0-ab89-57cd4efc274e"
      },
      "execution_count": 101,
      "outputs": [
        {
          "output_type": "stream",
          "name": "stdout",
          "text": [
            "Enter a year : 2100\n",
            "2100 is not a leap year\n"
          ]
        }
      ]
    },
    {
      "cell_type": "markdown",
      "source": [
        "Q. Write a Python function to compare the lengths of two strings and print \"Equal Length\" if they have the same length, and \"Different Length\" if they don't."
      ],
      "metadata": {
        "id": "fG-IosWy3PAn"
      }
    },
    {
      "cell_type": "code",
      "source": [
        "str1 = input('Enter string 1 : ')\n",
        "str2 = input('Enter string 2 : ')\n",
        "is_same = (str1 == str2)\n",
        "print('Same string' * is_same + 'Different string' * (not is_same))"
      ],
      "metadata": {
        "colab": {
          "base_uri": "https://localhost:8080/"
        },
        "id": "nZ01SlhGjnGQ",
        "outputId": "e9864909-0c4d-4021-a63f-0131a015013c"
      },
      "execution_count": 104,
      "outputs": [
        {
          "output_type": "stream",
          "name": "stdout",
          "text": [
            "Enter string 1 : hello\n",
            "Enter string 2 : python\n",
            "Different string\n"
          ]
        }
      ]
    },
    {
      "cell_type": "markdown",
      "source": [
        "Q. Develop a Python script to compare the ages of two people and print \"Older\" if the first person is older, \"Younger\" if the second person is older, and \"Same Age\" if they are the same age."
      ],
      "metadata": {
        "id": "SeekWvoI3-kk"
      }
    },
    {
      "cell_type": "code",
      "source": [
        "age1 = int(input('Enter the age of person 1 : '))\n",
        "age2 = int(input('Enter the age of person 2 : '))\n",
        "result = (age1 > age2) * 'Older' + (age1 < age2) * 'Younger' + (age1 == age2) * 'Same Age'\n",
        "print(result)"
      ],
      "metadata": {
        "colab": {
          "base_uri": "https://localhost:8080/"
        },
        "id": "jK5t8wTlp29o",
        "outputId": "509cc7c4-29c0-4665-cc44-4f94c42a8c7c"
      },
      "execution_count": 108,
      "outputs": [
        {
          "output_type": "stream",
          "name": "stdout",
          "text": [
            "Enter the age of person 1 : 25\n",
            "Enter the age of person 2 : 32\n",
            "Younger\n"
          ]
        }
      ]
    },
    {
      "cell_type": "markdown",
      "source": [
        "Q. Program to check if a person is eligible for a driver's license based on age and having a valid permit."
      ],
      "metadata": {
        "id": "uka2YCAuG_-z"
      }
    },
    {
      "cell_type": "code",
      "source": [
        "age = int(input('Enter the age : '))\n",
        "has_permit = input('Do you have a valid permit? (yes/no) : ').lower() == 'yes'\n",
        "is_eligible = (age >= 16) and has_permit\n",
        "print(\"The person is\", is_eligible * 'eligible' + (not is_eligible) * 'not eligible', \"for driver's license.\")"
      ],
      "metadata": {
        "colab": {
          "base_uri": "https://localhost:8080/"
        },
        "id": "87jlxRfbp84Y",
        "outputId": "ffe65647-7106-4443-d1ed-73692cc7848a"
      },
      "execution_count": 111,
      "outputs": [
        {
          "output_type": "stream",
          "name": "stdout",
          "text": [
            "Enter the age : 24\n",
            "Do you have a valid permit? (yes/no) : no\n",
            "The person is not eligible for driver's license.\n"
          ]
        }
      ]
    },
    {
      "cell_type": "markdown",
      "source": [
        "Q. Write a Python program to check if a user-provided letter is a vowel or a consonant."
      ],
      "metadata": {
        "id": "auyC5DrWJHUg"
      }
    },
    {
      "cell_type": "code",
      "source": [
        "letter = input('Enter a letter : ').lower()\n",
        "is_vowel = letter in 'aeiou'\n",
        "print('The letter is', is_vowel * 'vowel' + (not is_vowel) * 'consonant')"
      ],
      "metadata": {
        "colab": {
          "base_uri": "https://localhost:8080/"
        },
        "id": "c1lJHzhzIgj9",
        "outputId": "f7c1f08e-617f-45e5-8db4-7dbfad23b279"
      },
      "execution_count": 113,
      "outputs": [
        {
          "output_type": "stream",
          "name": "stdout",
          "text": [
            "Enter a letter : e\n",
            "The letter is vowel\n"
          ]
        }
      ]
    }
  ]
}