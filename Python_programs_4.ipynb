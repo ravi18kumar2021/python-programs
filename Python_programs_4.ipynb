{
  "nbformat": 4,
  "nbformat_minor": 0,
  "metadata": {
    "colab": {
      "provenance": [],
      "authorship_tag": "ABX9TyPuWo3W0zNCsAvNSHC4ynbr",
      "include_colab_link": true
    },
    "kernelspec": {
      "name": "python3",
      "display_name": "Python 3"
    },
    "language_info": {
      "name": "python"
    }
  },
  "cells": [
    {
      "cell_type": "markdown",
      "metadata": {
        "id": "view-in-github",
        "colab_type": "text"
      },
      "source": [
        "<a href=\"https://colab.research.google.com/github/ravi18kumar2021/python-programs/blob/main/Python_programs_4.ipynb\" target=\"_parent\"><img src=\"https://colab.research.google.com/assets/colab-badge.svg\" alt=\"Open In Colab\"/></a>"
      ]
    },
    {
      "cell_type": "markdown",
      "source": [
        "## String\n",
        "Q. Write a Python program to calculate the length of a string without using the len() function."
      ],
      "metadata": {
        "id": "a71ycIaZMzio"
      }
    },
    {
      "cell_type": "code",
      "execution_count": 1,
      "metadata": {
        "colab": {
          "base_uri": "https://localhost:8080/"
        },
        "id": "z6huSTWgMirp",
        "outputId": "1fbe26f1-bb8f-4122-ef40-22897bc1f252"
      },
      "outputs": [
        {
          "output_type": "stream",
          "name": "stdout",
          "text": [
            "Enter a string : hello\n",
            "5\n"
          ]
        }
      ],
      "source": [
        "string = input('Enter a string : ')\n",
        "count = 0\n",
        "for i in string:\n",
        "  count += 1\n",
        "print(count)"
      ]
    },
    {
      "cell_type": "markdown",
      "source": [
        "Q. Write a Python program to concatenate two strings without using the + operator."
      ],
      "metadata": {
        "id": "QbZ_B2G0NtKS"
      }
    },
    {
      "cell_type": "code",
      "source": [
        "string1 = input('Enter string 1 : ')\n",
        "string2 = input('Enter string 2 : ')\n",
        "result = ''\n",
        "for i in string1:\n",
        "  result += i\n",
        "for j in string2:\n",
        "  result += j\n",
        "print(result)"
      ],
      "metadata": {
        "colab": {
          "base_uri": "https://localhost:8080/"
        },
        "id": "VdMlJKSCNlRR",
        "outputId": "6ca527f9-772c-4f46-ee86-6917f8d65326"
      },
      "execution_count": 2,
      "outputs": [
        {
          "output_type": "stream",
          "name": "stdout",
          "text": [
            "Enter string 1 : python\n",
            "Enter string 2 : development\n",
            "pythondevelopment\n"
          ]
        }
      ]
    },
    {
      "cell_type": "markdown",
      "source": [
        "Q. Write a Python program to reverse a string without using slicing or any built-in reversal function.\n",
        "\n"
      ],
      "metadata": {
        "id": "CDiy79_WOYw8"
      }
    },
    {
      "cell_type": "code",
      "source": [
        "string = input('Enter a string : ')\n",
        "result = ''\n",
        "\n",
        "for i in string:\n",
        "  result = i + result\n",
        "\n",
        "print(result)"
      ],
      "metadata": {
        "colab": {
          "base_uri": "https://localhost:8080/"
        },
        "id": "hY9Mrf3zOQqB",
        "outputId": "4ecd6ce1-cce1-451f-e9eb-573617fcf78c"
      },
      "execution_count": 4,
      "outputs": [
        {
          "output_type": "stream",
          "name": "stdout",
          "text": [
            "Enter a string : python\n",
            "nohtyp\n"
          ]
        }
      ]
    },
    {
      "cell_type": "markdown",
      "source": [
        "Q. Write a Python program to check if a string is a palindrome (reads the same forwards and backwards) without using slicing or any built-in reversal function."
      ],
      "metadata": {
        "id": "m2ixYbZiO3mB"
      }
    },
    {
      "cell_type": "code",
      "source": [
        "string = input('Enter a string : ')\n",
        "flag = False\n",
        "for i in range(len(string)//2):\n",
        "  if string[i] != string[-1-i]:\n",
        "    print('not palindrome')\n",
        "    flag = True\n",
        "    break\n",
        "if not flag:\n",
        "  print('palindrome')"
      ],
      "metadata": {
        "colab": {
          "base_uri": "https://localhost:8080/"
        },
        "id": "387nopcrOsOj",
        "outputId": "4fb27ecb-f653-4ce2-8c1b-280fe0c5b133"
      },
      "execution_count": 8,
      "outputs": [
        {
          "output_type": "stream",
          "name": "stdout",
          "text": [
            "Enter a string : malayalam\n",
            "palindrome\n"
          ]
        }
      ]
    },
    {
      "cell_type": "markdown",
      "source": [
        "Q. Write a Python program to count the number of vowels in a string.\n",
        "\n"
      ],
      "metadata": {
        "id": "w3Ub7h5pPoM6"
      }
    },
    {
      "cell_type": "code",
      "source": [
        "string = input('Enter a string : ')\n",
        "vowels = 'aeiouAEIOU'\n",
        "count = 0\n",
        "for i in string:\n",
        "  if i in vowels:\n",
        "    count += 1\n",
        "print(count)"
      ],
      "metadata": {
        "colab": {
          "base_uri": "https://localhost:8080/"
        },
        "id": "6TI0Y97gPQ25",
        "outputId": "d21767f0-339b-4882-e8f2-48189b626028"
      },
      "execution_count": 9,
      "outputs": [
        {
          "output_type": "stream",
          "name": "stdout",
          "text": [
            "Enter a string : fantastic\n",
            "3\n"
          ]
        }
      ]
    },
    {
      "cell_type": "markdown",
      "source": [
        "Q. Write a Python program to convert a string to uppercase without using the .upper() method and to lowercase without using the .lower() method."
      ],
      "metadata": {
        "id": "nVxHQly1QUXH"
      }
    },
    {
      "cell_type": "code",
      "source": [
        "string  = input('Enter a string : ')\n",
        "\n",
        "# to upper case\n",
        "result1 = ''\n",
        "for i in string:\n",
        "  if 'a' <= i <= 'z':\n",
        "    result1 += chr(ord(i) - 32)\n",
        "  else:\n",
        "    result1 += i\n",
        "print('uppercase ', result1)\n",
        "\n",
        "# to lower case\n",
        "result2 = ''\n",
        "for j in string:\n",
        "  if 'A' <= j <= 'Z':\n",
        "    result2 += chr(ord(j) + 32)\n",
        "  else:\n",
        "    result2 += j\n",
        "print('lowercase ', result2)"
      ],
      "metadata": {
        "colab": {
          "base_uri": "https://localhost:8080/"
        },
        "id": "pWjNxdjRP0vJ",
        "outputId": "50902b6b-92e2-4f9f-8ed5-c90a96d9faa7"
      },
      "execution_count": 14,
      "outputs": [
        {
          "output_type": "stream",
          "name": "stdout",
          "text": [
            "Enter a string : pHYsIcS\n",
            "uppercase  PHYSICS\n",
            "lowercase  physics\n"
          ]
        }
      ]
    },
    {
      "cell_type": "markdown",
      "source": [
        "Q. Write a Python program to check if two strings are anagrams of each other without using any built-in functions or data structures."
      ],
      "metadata": {
        "id": "AfGGjSCVTQvh"
      }
    },
    {
      "cell_type": "code",
      "source": [
        "# length of two strings should be equal and characters should be same\n",
        "string1 = input('Enter a string 1 : ')\n",
        "string2 = input('Enter a string 2 : ')\n",
        "is_equal = False\n",
        "is_char_same = True\n",
        "if len(string1) == len(string2):\n",
        "  is_equal = True\n",
        "for i in string1:\n",
        "  if i not in string2:\n",
        "    is_char_same = False\n",
        "if is_equal and is_char_same:\n",
        "  print('anagram')\n",
        "else:\n",
        "  print('not anagram')"
      ],
      "metadata": {
        "colab": {
          "base_uri": "https://localhost:8080/"
        },
        "id": "qiyvCEfwRL5q",
        "outputId": "e68d2e1f-d56f-4e4b-e71e-934e6b2208c1"
      },
      "execution_count": 17,
      "outputs": [
        {
          "output_type": "stream",
          "name": "stdout",
          "text": [
            "Enter a string 1 : guava\n",
            "Enter a string 2 : vagua\n",
            "anagram\n"
          ]
        }
      ]
    },
    {
      "cell_type": "markdown",
      "source": [
        "## List\n",
        "Q. Write a Python program to sort a list of integers without using any built-in sorting functions or methods."
      ],
      "metadata": {
        "id": "ZNFXk67hVGBQ"
      }
    },
    {
      "cell_type": "code",
      "source": [
        "list1 = [3, 2, 7, 5, 1, 6]\n",
        "list2 = []\n",
        "for i in range(len(list1)):\n",
        "  small = max(list1) + 1\n",
        "  for j in range(i+1, len(list1)):\n",
        "    if list1[i] > list1[j]:\n",
        "      list1[i], list1[j] = list1[j], list1[i]\n",
        "print(list1)"
      ],
      "metadata": {
        "colab": {
          "base_uri": "https://localhost:8080/"
        },
        "id": "kCT-hjePUPwi",
        "outputId": "dc2c6955-fd8e-4773-dcbe-9ea7b9793802"
      },
      "execution_count": 21,
      "outputs": [
        {
          "output_type": "stream",
          "name": "stdout",
          "text": [
            "[1, 2, 3, 5, 6, 7]\n"
          ]
        }
      ]
    },
    {
      "cell_type": "markdown",
      "source": [
        "Q. Write a Python program to flatten a nested list without using any built-in flattening functions."
      ],
      "metadata": {
        "id": "WtVchbabb8jg"
      }
    },
    {
      "cell_type": "code",
      "source": [
        "list1 = [[5, 3], [2, 6, 7], [4, 1, 3]]\n",
        "list2 = []\n",
        "for i in list1:\n",
        "  for j in i:\n",
        "    list2.append(j)\n",
        "print(list2)"
      ],
      "metadata": {
        "colab": {
          "base_uri": "https://localhost:8080/"
        },
        "id": "Cwldz7OAYGap",
        "outputId": "8727fdcb-c514-4e40-e944-c2fd72e91c8b"
      },
      "execution_count": 22,
      "outputs": [
        {
          "output_type": "stream",
          "name": "stdout",
          "text": [
            "[5, 3, 2, 6, 7, 4, 1, 3]\n"
          ]
        }
      ]
    },
    {
      "cell_type": "markdown",
      "source": [
        "Q. Write a Python program to calculate the sum of all elements in a list without using the sum() function."
      ],
      "metadata": {
        "id": "pY33rFiYc0Ec"
      }
    },
    {
      "cell_type": "code",
      "source": [
        "list1 = [5, 3, 1, 7, 4]\n",
        "result = 0\n",
        "for i in list1:\n",
        "  result += i\n",
        "print(result)"
      ],
      "metadata": {
        "colab": {
          "base_uri": "https://localhost:8080/"
        },
        "id": "1nvJHNjUcTWw",
        "outputId": "18c541b9-4bc4-421b-dc95-8f8c2f85d872"
      },
      "execution_count": 23,
      "outputs": [
        {
          "output_type": "stream",
          "name": "stdout",
          "text": [
            "20\n"
          ]
        }
      ]
    },
    {
      "cell_type": "markdown",
      "source": [
        "Q. Write a Python program to access the nth element of a list without using indexing or slicing."
      ],
      "metadata": {
        "id": "zaoEQz23dDjz"
      }
    },
    {
      "cell_type": "code",
      "source": [
        "lst = [5, 6.8, 23, True, 'python']\n",
        "n = 2\n",
        "counter = 0\n",
        "for i in lst:\n",
        "  if counter == n:\n",
        "    print(i)\n",
        "    break\n",
        "  counter += 1"
      ],
      "metadata": {
        "colab": {
          "base_uri": "https://localhost:8080/"
        },
        "id": "ax_XOv49c-ef",
        "outputId": "69dcdc27-8313-4807-c176-4d3d08d9b171"
      },
      "execution_count": 24,
      "outputs": [
        {
          "output_type": "stream",
          "name": "stdout",
          "text": [
            "23\n"
          ]
        }
      ]
    },
    {
      "cell_type": "markdown",
      "source": [
        "Q. Write a Python program to remove a specific element from a list without using the .remove() method."
      ],
      "metadata": {
        "id": "QSNRdx9sdrze"
      }
    },
    {
      "cell_type": "code",
      "source": [
        "list1 = ['apple', 'banana', 'guava', 'mango']\n",
        "item = 'guava'\n",
        "list2 = []\n",
        "for i in list1:\n",
        "  if i != item:\n",
        "    list2.append(i)\n",
        "print(list2)"
      ],
      "metadata": {
        "colab": {
          "base_uri": "https://localhost:8080/"
        },
        "id": "rYq_4qogdnbv",
        "outputId": "016609dd-f5c9-4a25-9063-ddab33719af5"
      },
      "execution_count": 25,
      "outputs": [
        {
          "output_type": "stream",
          "name": "stdout",
          "text": [
            "['apple', 'banana', 'mango']\n"
          ]
        }
      ]
    },
    {
      "cell_type": "markdown",
      "source": [
        "Q. Write a Python program to insert an element at a specific index in a list without using the .insert() method."
      ],
      "metadata": {
        "id": "qTvsS7geeIKj"
      }
    },
    {
      "cell_type": "code",
      "source": [
        "list1 = ['python', 'java', 'php', 'ruby', 'kotlin']\n",
        "item = 'javascript'\n",
        "pos = 3\n",
        "list2 = []\n",
        "for i in range(len(list1)):\n",
        "  if i == pos:\n",
        "    list2.append(item)\n",
        "    list2.append(list1[i])\n",
        "  else:\n",
        "    list2.append(list1[i])\n",
        "print(list2)"
      ],
      "metadata": {
        "colab": {
          "base_uri": "https://localhost:8080/"
        },
        "id": "GcdUQJReeDfo",
        "outputId": "7b4c0710-ddc8-48ff-a75a-044497a4896b"
      },
      "execution_count": 27,
      "outputs": [
        {
          "output_type": "stream",
          "name": "stdout",
          "text": [
            "['python', 'java', 'php', 'javascript', 'ruby', 'kotlin']\n"
          ]
        }
      ]
    },
    {
      "cell_type": "markdown",
      "source": [
        "Q. Write a Python program to multiply each element of a list by a constant factor without using list comprehensions or the map() function."
      ],
      "metadata": {
        "id": "kZM9gdszgMEY"
      }
    },
    {
      "cell_type": "code",
      "source": [
        "list1 = [4, 2, 6, 3, 1, 7]\n",
        "factor = 3\n",
        "list2 = []\n",
        "for i in list1:\n",
        "  temp = i * factor\n",
        "  list2.append(temp)\n",
        "print(list2)"
      ],
      "metadata": {
        "colab": {
          "base_uri": "https://localhost:8080/"
        },
        "id": "e2cZf66Jeu8I",
        "outputId": "08a5cd26-fe6c-429a-eec3-578381414e46"
      },
      "execution_count": 28,
      "outputs": [
        {
          "output_type": "stream",
          "name": "stdout",
          "text": [
            "[12, 6, 18, 9, 3, 21]\n"
          ]
        }
      ]
    },
    {
      "cell_type": "markdown",
      "source": [
        "Q. Write a Python program to create a list of squares of numbers from 1 to 10 using list comprehension."
      ],
      "metadata": {
        "id": "_rUOTkFGgxdU"
      }
    },
    {
      "cell_type": "code",
      "source": [
        "[i**2 for i in range(1, 11)]"
      ],
      "metadata": {
        "colab": {
          "base_uri": "https://localhost:8080/"
        },
        "id": "X_AK1qiageY4",
        "outputId": "db49f968-2cc6-4411-daa9-7f748b342290"
      },
      "execution_count": 29,
      "outputs": [
        {
          "output_type": "execute_result",
          "data": {
            "text/plain": [
              "[1, 4, 9, 16, 25, 36, 49, 64, 81, 100]"
            ]
          },
          "metadata": {},
          "execution_count": 29
        }
      ]
    },
    {
      "cell_type": "markdown",
      "source": [
        "Q. Write a Python program to create a list of even numbers from 1 to 20 using list comprehension.\n",
        "\n"
      ],
      "metadata": {
        "id": "1hyp9uZ4g5Nw"
      }
    },
    {
      "cell_type": "code",
      "source": [
        "[i for i in range(1, 21) if i%2 == 0]"
      ],
      "metadata": {
        "colab": {
          "base_uri": "https://localhost:8080/"
        },
        "id": "1MOFSS6pg1_I",
        "outputId": "3cf34734-d0d8-49ff-f9c9-8e7702558d9f"
      },
      "execution_count": 30,
      "outputs": [
        {
          "output_type": "execute_result",
          "data": {
            "text/plain": [
              "[2, 4, 6, 8, 10, 12, 14, 16, 18, 20]"
            ]
          },
          "metadata": {},
          "execution_count": 30
        }
      ]
    },
    {
      "cell_type": "markdown",
      "source": [
        "Q. Write a Python program to create a 2D list (matrix) of size 3x3 where each element is the sum of its row and column indices using list comprehension."
      ],
      "metadata": {
        "id": "sPdif_pVhFdL"
      }
    },
    {
      "cell_type": "code",
      "source": [
        "# [[0, 1, 2], [1, 2, 3], [2, 3, 4]]\n",
        "[[i+j for i in range(3)] for j in range(3)]"
      ],
      "metadata": {
        "colab": {
          "base_uri": "https://localhost:8080/"
        },
        "id": "IDmAGzgjhAiP",
        "outputId": "bbff3522-fc10-434a-89e8-a689c1614588"
      },
      "execution_count": 33,
      "outputs": [
        {
          "output_type": "execute_result",
          "data": {
            "text/plain": [
              "[[0, 1, 2], [1, 2, 3], [2, 3, 4]]"
            ]
          },
          "metadata": {},
          "execution_count": 33
        }
      ]
    },
    {
      "cell_type": "markdown",
      "source": [
        "Q. Write a Python program to create a list of uppercase characters from a given string using list comprehension.\n",
        "\n"
      ],
      "metadata": {
        "id": "IPmlvhAdiqvo"
      }
    },
    {
      "cell_type": "code",
      "source": [
        "[i for i in 'pYtHOn' if i.isupper()]"
      ],
      "metadata": {
        "colab": {
          "base_uri": "https://localhost:8080/"
        },
        "id": "gpyfUDssiISo",
        "outputId": "e407dcb7-ad70-4b98-c5b8-8fb68daffb26"
      },
      "execution_count": 35,
      "outputs": [
        {
          "output_type": "execute_result",
          "data": {
            "text/plain": [
              "['Y', 'H', 'O']"
            ]
          },
          "metadata": {},
          "execution_count": 35
        }
      ]
    },
    {
      "cell_type": "markdown",
      "source": [
        "Q. Write a Python program to create a list of numbers divisible by both 3 and 5 from 1 to 50 using list comprehension.\n",
        "\n"
      ],
      "metadata": {
        "id": "yXbCQMQXjNVa"
      }
    },
    {
      "cell_type": "code",
      "source": [
        "[i for i in range(1, 51) if i%3 == 0 and i%5 == 0]"
      ],
      "metadata": {
        "colab": {
          "base_uri": "https://localhost:8080/"
        },
        "id": "9ADCcRx6i1JX",
        "outputId": "e79e9998-e12b-4675-bd52-e94534cdeba8"
      },
      "execution_count": 36,
      "outputs": [
        {
          "output_type": "execute_result",
          "data": {
            "text/plain": [
              "[15, 30, 45]"
            ]
          },
          "metadata": {},
          "execution_count": 36
        }
      ]
    },
    {
      "cell_type": "markdown",
      "source": [
        "Q. Write a Python program to create a list of tuples where each tuple contains two even numbers from 1 to 10 using list comprehension.\n",
        "\n"
      ],
      "metadata": {
        "id": "EzHx8sMixt-Y"
      }
    },
    {
      "cell_type": "code",
      "source": [
        "# [(2, 2), (2, 4), (2, 6), (2, 8), (2, 10), (4, 2), ...]\n",
        "[(i, j) for i in range(1, 11) for j in range(1, 11) if i%2 == 0 and j%2 == 0]"
      ],
      "metadata": {
        "colab": {
          "base_uri": "https://localhost:8080/"
        },
        "id": "RQkGt6GUymse",
        "outputId": "3ec74739-36d9-40c2-8494-41006a640774"
      },
      "execution_count": 38,
      "outputs": [
        {
          "output_type": "execute_result",
          "data": {
            "text/plain": [
              "[(2, 2),\n",
              " (2, 4),\n",
              " (2, 6),\n",
              " (2, 8),\n",
              " (2, 10),\n",
              " (4, 2),\n",
              " (4, 4),\n",
              " (4, 6),\n",
              " (4, 8),\n",
              " (4, 10),\n",
              " (6, 2),\n",
              " (6, 4),\n",
              " (6, 6),\n",
              " (6, 8),\n",
              " (6, 10),\n",
              " (8, 2),\n",
              " (8, 4),\n",
              " (8, 6),\n",
              " (8, 8),\n",
              " (8, 10),\n",
              " (10, 2),\n",
              " (10, 4),\n",
              " (10, 6),\n",
              " (10, 8),\n",
              " (10, 10)]"
            ]
          },
          "metadata": {},
          "execution_count": 38
        }
      ]
    },
    {
      "cell_type": "markdown",
      "source": [
        "## Set\n",
        "Q. Write a Python program to add elements 'orange', 'banana', 'apple' to a set."
      ],
      "metadata": {
        "id": "4kUvbiNW2vFV"
      }
    },
    {
      "cell_type": "code",
      "source": [
        "s = set()\n",
        "s.update(['orange', 'banana', 'apple'])\n",
        "print(s)"
      ],
      "metadata": {
        "colab": {
          "base_uri": "https://localhost:8080/"
        },
        "id": "cD4E84P62uYX",
        "outputId": "8ab41a72-5621-4368-cfe5-1567cb64cd14"
      },
      "execution_count": 43,
      "outputs": [
        {
          "output_type": "stream",
          "name": "stdout",
          "text": [
            "{'apple', 'orange', 'banana'}\n"
          ]
        }
      ]
    },
    {
      "cell_type": "code",
      "source": [
        "s = set()\n",
        "s.add('orange')\n",
        "s.add('banana')\n",
        "s.add('apple')\n",
        "print(s)"
      ],
      "metadata": {
        "colab": {
          "base_uri": "https://localhost:8080/"
        },
        "id": "E66MWQEK25Ym",
        "outputId": "52ce0031-848b-4a74-f2ca-5beb045017b4"
      },
      "execution_count": 44,
      "outputs": [
        {
          "output_type": "stream",
          "name": "stdout",
          "text": [
            "{'apple', 'orange', 'banana'}\n"
          ]
        }
      ]
    },
    {
      "cell_type": "markdown",
      "source": [
        "Q. Write a Python program that takes a set as input and generates its power set (i.e., the set of all subsets), utilizing bitwise operations or recursion to efficiently generate subsets."
      ],
      "metadata": {
        "id": "uGJJPic89LdX"
      }
    },
    {
      "cell_type": "code",
      "source": [
        "# {1, 2, 3} -> {}, {1}, {2}, {3}, {1, 2}, {2, 3}, {1, 3}, {1, 2, 3} = 2^3 = 8\n",
        "s1 = {1, 2, 3}\n",
        "s2 = [set()]\n",
        "for i in s1:\n",
        "  for j in s2[:]:\n",
        "    s = j.copy()\n",
        "    s.add(i)\n",
        "    s2.append(s)\n",
        "\n",
        "print(s2)"
      ],
      "metadata": {
        "colab": {
          "base_uri": "https://localhost:8080/"
        },
        "id": "Gkv_kZR23AZm",
        "outputId": "50ed45e6-1d24-4fd5-a7e6-3393905a03ab"
      },
      "execution_count": 52,
      "outputs": [
        {
          "output_type": "stream",
          "name": "stdout",
          "text": [
            "[set(), {1}, {2}, {1, 2}, {3}, {1, 3}, {2, 3}, {1, 2, 3}]\n"
          ]
        }
      ]
    },
    {
      "cell_type": "markdown",
      "source": [
        "Q. Write a Python program that takes two sets as input and generates and prints their Cartesian product (i.e., all possible pairs of elements from both sets)."
      ],
      "metadata": {
        "id": "etoe_3lGC7BQ"
      }
    },
    {
      "cell_type": "code",
      "source": [
        "s1 = {1, 3, 5}\n",
        "s2 = {2, 4, 6}\n",
        "\n",
        "{(i, j) for i in s1 for j in s2}"
      ],
      "metadata": {
        "colab": {
          "base_uri": "https://localhost:8080/"
        },
        "id": "nDblFmlwAKlk",
        "outputId": "7217fb5b-53ac-4bc5-ebf7-63058923e182"
      },
      "execution_count": 53,
      "outputs": [
        {
          "output_type": "execute_result",
          "data": {
            "text/plain": [
              "{(1, 2), (1, 4), (1, 6), (3, 2), (3, 4), (3, 6), (5, 2), (5, 4), (5, 6)}"
            ]
          },
          "metadata": {},
          "execution_count": 53
        }
      ]
    },
    {
      "cell_type": "markdown",
      "source": [
        "## Dictionary\n",
        "Q. Write a Python program that takes a string as input and counts the frequency of each character in the string, storing the results in a dictionary.\n",
        "\n"
      ],
      "metadata": {
        "id": "G_ZCCjx4DcpS"
      }
    },
    {
      "cell_type": "code",
      "source": [
        "string = input('Enter a string : ')\n",
        "result = {}\n",
        "\n",
        "for i in string:\n",
        "  if result.get(i):\n",
        "    result[i] += 1\n",
        "  else:\n",
        "    result[i] = 1\n",
        "print(result)"
      ],
      "metadata": {
        "colab": {
          "base_uri": "https://localhost:8080/"
        },
        "id": "znnKHRaKDLCl",
        "outputId": "1c130ec8-f809-47a2-ad83-dc90c083df6b"
      },
      "execution_count": 66,
      "outputs": [
        {
          "output_type": "stream",
          "name": "stdout",
          "text": [
            "Enter a string : consistent\n",
            "{'c': 1, 'o': 1, 'n': 2, 's': 2, 'i': 1, 't': 2, 'e': 1}\n"
          ]
        }
      ]
    },
    {
      "cell_type": "markdown",
      "source": [
        "Q. Write a Python program that simulates a student gradebook using a dictionary. The program should allow users to add students along with their grades and then display the average grade for each student."
      ],
      "metadata": {
        "id": "OrmMdtgVHRT0"
      }
    },
    {
      "cell_type": "code",
      "source": [
        "n = int(input('Enter the number of students : '))\n",
        "d = {}\n",
        "for i in range(n):\n",
        "  name = input('Enter name of student {}: '.format(i+1))\n",
        "  g1 = int(input('Enter grade of subject 1 : '))\n",
        "  g2 = int(input('Enter grade of subject 2 : '))\n",
        "  g3 = int(input('Enter grade of subject 3 : '))\n",
        "  d[name] = round((g1 + g2 + g3)/3, 2)\n",
        "print(d)"
      ],
      "metadata": {
        "colab": {
          "base_uri": "https://localhost:8080/"
        },
        "id": "tmPIFa15D_gz",
        "outputId": "162ad073-7584-4684-c08e-53159b5f3a75"
      },
      "execution_count": 68,
      "outputs": [
        {
          "output_type": "stream",
          "name": "stdout",
          "text": [
            "Enter the number of students : 4\n",
            "Enter name of student 1: Aman\n",
            "Enter grade of subject 1 : 67\n",
            "Enter grade of subject 2 : 47\n",
            "Enter grade of subject 3 : 83\n",
            "Enter name of student 2: Gaurav\n",
            "Enter grade of subject 1 : 40\n",
            "Enter grade of subject 2 : 74\n",
            "Enter grade of subject 3 : 50\n",
            "Enter name of student 3: Jayant\n",
            "Enter grade of subject 1 : 66\n",
            "Enter grade of subject 2 : 46\n",
            "Enter grade of subject 3 : 87\n",
            "Enter name of student 4: Kishor\n",
            "Enter grade of subject 1 : 46\n",
            "Enter grade of subject 2 : 67\n",
            "Enter grade of subject 3 : 36\n",
            "{'Aman': 65.67, 'Gaurav': 54.67, 'Jayant': 66.33, 'Kishor': 49.67}\n"
          ]
        }
      ]
    },
    {
      "cell_type": "code",
      "source": [],
      "metadata": {
        "id": "72fbxrOmIPKj"
      },
      "execution_count": null,
      "outputs": []
    }
  ]
}