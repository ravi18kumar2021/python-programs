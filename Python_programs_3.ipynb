{
  "nbformat": 4,
  "nbformat_minor": 0,
  "metadata": {
    "colab": {
      "provenance": [],
      "authorship_tag": "ABX9TyM5Rj29wdfts3bFfyEbAvTp",
      "include_colab_link": true
    },
    "kernelspec": {
      "name": "python3",
      "display_name": "Python 3"
    },
    "language_info": {
      "name": "python"
    }
  },
  "cells": [
    {
      "cell_type": "markdown",
      "metadata": {
        "id": "view-in-github",
        "colab_type": "text"
      },
      "source": [
        "<a href=\"https://colab.research.google.com/github/ravi18kumar2021/python-programs/blob/main/Python_programs_3.ipynb\" target=\"_parent\"><img src=\"https://colab.research.google.com/assets/colab-badge.svg\" alt=\"Open In Colab\"/></a>"
      ]
    },
    {
      "cell_type": "markdown",
      "source": [
        "## Loops"
      ],
      "metadata": {
        "id": "Ug0HJWzCy0CA"
      }
    },
    {
      "cell_type": "markdown",
      "source": [
        "Q. Write a Python program to simulate the checkout process at a supermarket. Prompt the user to enter the prices of items, then calculate and display the total bill amount."
      ],
      "metadata": {
        "id": "MZwioj7jy44w"
      }
    },
    {
      "cell_type": "code",
      "execution_count": null,
      "metadata": {
        "colab": {
          "base_uri": "https://localhost:8080/"
        },
        "id": "EGE6nUlryno5",
        "outputId": "42761212-1a40-42d0-cbca-f48f6aa2f8ae"
      },
      "outputs": [
        {
          "output_type": "stream",
          "name": "stdout",
          "text": [
            "Enter the number of items : 5\n",
            "Enter the price of item 1 : 340\n",
            "Enter the price of item 2 : 120\n",
            "Enter the price of item 3 : 50\n",
            "Enter the price of item 4 : 130\n",
            "Enter the price of item 5 : 80\n",
            "Total bill amount : 720\n"
          ]
        }
      ],
      "source": [
        "total_bill = 0\n",
        "num_items = int(input('Enter the number of items : '))\n",
        "\n",
        "for i in range(num_items):\n",
        "  amount = int(input('Enter the price of item {} : '.format(i+1)))\n",
        "  total_bill += amount\n",
        "\n",
        "print(\"Total bill amount :\", total_bill)"
      ]
    },
    {
      "cell_type": "markdown",
      "source": [
        "Q. Write a Python program to calculate the monthly payroll for employees in a company. Prompt the user to enter the hourly wage and hours worked for each employee, then calculate and display their monthly salary."
      ],
      "metadata": {
        "id": "4DcnPudu5_sJ"
      }
    },
    {
      "cell_type": "code",
      "source": [
        "total_payroll = 0\n",
        "num_employees = int(input('Enter the number of employees : '))\n",
        "\n",
        "for i in range(num_employees):\n",
        "  hourly_wage = int(input('Enter the hourly wage for employee {} : '.format(i+1)))\n",
        "  hourly_worked = int(input('Enter the number of hours worked for employee {} : '.format(i+1)))\n",
        "  monthly_salary = hourly_wage * hourly_worked\n",
        "  print('Monthly Salary of employee {} is {}'.format(i+1, monthly_salary))\n",
        "  total_payroll += monthly_salary\n",
        "\n",
        "print('Total monthly payroll : ', total_payroll)"
      ],
      "metadata": {
        "colab": {
          "base_uri": "https://localhost:8080/"
        },
        "id": "IK7Z5-i35eG6",
        "outputId": "bc1495c6-f9e1-40d0-ba67-546794ab4d86"
      },
      "execution_count": null,
      "outputs": [
        {
          "output_type": "stream",
          "name": "stdout",
          "text": [
            "Enter the number of employees : 4\n",
            "Enter the hourly wage for employee 1 : 340\n",
            "Enter the number of hours worked for employee 1 : 200\n",
            "Monthly Salary of employee 1 is 68000\n",
            "Enter the hourly wage for employee 2 : 450\n",
            "Enter the number of hours worked for employee 2 : 210\n",
            "Monthly Salary of employee 2 is 94500\n",
            "Enter the hourly wage for employee 3 : 200\n",
            "Enter the number of hours worked for employee 3 : 250\n",
            "Monthly Salary of employee 3 is 50000\n",
            "Enter the hourly wage for employee 4 : 320\n",
            "Enter the number of hours worked for employee 4 : 230\n",
            "Monthly Salary of employee 4 is 73600\n",
            "Total monthly payroll :  286100\n"
          ]
        }
      ]
    },
    {
      "cell_type": "markdown",
      "source": [
        "Q. Write a Python program that simulates the growth of a population over multiple years. Prompt the user to enter the initial population size and the annual growth rate, then calculate and display the population size for each year."
      ],
      "metadata": {
        "id": "Ef0zkNGldIJP"
      }
    },
    {
      "cell_type": "code",
      "source": [
        "initial_population = int(input('Enter the initial population size : '))\n",
        "annual_growth_rate = float(input('Enter the annual growth rate (in percentage): '))\n",
        "num_years = int(input('Enter the number of years : '))\n",
        "\n",
        "population = initial_population\n",
        "\n",
        "for year in range(1, num_years + 1):\n",
        "  population *= (1 + annual_growth_rate / 100)\n",
        "  print('Population after year {} : {:.2f}'.format(year, population))"
      ],
      "metadata": {
        "colab": {
          "base_uri": "https://localhost:8080/"
        },
        "id": "FpLAJrrj7pt5",
        "outputId": "7826e620-06df-4ba4-8bdc-ab09558dde36"
      },
      "execution_count": null,
      "outputs": [
        {
          "output_type": "stream",
          "name": "stdout",
          "text": [
            "Enter the initial population size : 230900\n",
            "Enter the annual growth rate (in percentage): 34\n",
            "Enter the number of years : 5\n",
            "Population after year 1 : 309406.00\n",
            "Population after year 2 : 414604.04\n",
            "Population after year 3 : 555569.41\n",
            "Population after year 4 : 744463.01\n",
            "Population after year 5 : 997580.44\n"
          ]
        }
      ]
    },
    {
      "cell_type": "markdown",
      "source": [
        "Q. Write a Python program that generates the multiplication table for a given number. Prompt the user to enter a number, then display its multiplication table from 1 to 10."
      ],
      "metadata": {
        "id": "Lukg16M_fLG6"
      }
    },
    {
      "cell_type": "code",
      "source": [
        "num = int(input('Enter a number : '))\n",
        "\n",
        "print('Multiplication table for {} :'.format(num))\n",
        "\n",
        "for i in range(1, 11):\n",
        "  print('{} x {} = {}'.format(num, i, num*i))"
      ],
      "metadata": {
        "colab": {
          "base_uri": "https://localhost:8080/"
        },
        "id": "8kLK0Wn4ec6r",
        "outputId": "8c76954d-adf2-45ac-c771-b988865e4e2d"
      },
      "execution_count": null,
      "outputs": [
        {
          "output_type": "stream",
          "name": "stdout",
          "text": [
            "Enter a number : 6\n",
            "Multiplication table for 6 :\n",
            "6 x 1 = 6\n",
            "6 x 2 = 12\n",
            "6 x 3 = 18\n",
            "6 x 4 = 24\n",
            "6 x 5 = 30\n",
            "6 x 6 = 36\n",
            "6 x 7 = 42\n",
            "6 x 8 = 48\n",
            "6 x 9 = 54\n",
            "6 x 10 = 60\n"
          ]
        }
      ]
    },
    {
      "cell_type": "markdown",
      "source": [
        "Q. Write a Python program that generates the first n terms of the Fibonacci sequence. Prompt the user to enter the value of n, then display the Fibonacci sequence"
      ],
      "metadata": {
        "id": "MqlljRuU6t1l"
      }
    },
    {
      "cell_type": "code",
      "source": [
        "n = int(input('Enter the value of n : '))\n",
        "a = 0\n",
        "b = 1\n",
        "print(a)\n",
        "print(b)\n",
        "for i in range(n-2):\n",
        "  c = a + b\n",
        "  print(c)\n",
        "  a = b\n",
        "  b = c"
      ],
      "metadata": {
        "id": "V5ioy7rOf3DB",
        "colab": {
          "base_uri": "https://localhost:8080/"
        },
        "outputId": "fc8656db-0ebc-4d15-f6fd-17d531f6885d"
      },
      "execution_count": null,
      "outputs": [
        {
          "output_type": "stream",
          "name": "stdout",
          "text": [
            "Enter the value of n : 4\n",
            "0\n",
            "1\n",
            "1\n",
            "2\n"
          ]
        }
      ]
    },
    {
      "cell_type": "markdown",
      "source": [
        "Q. Write a Python program that calculates the factorial of a given number using a for loop. Prompt the user to enter a number, then calculate and display its factorial."
      ],
      "metadata": {
        "id": "p1YPMUSc89DX"
      }
    },
    {
      "cell_type": "code",
      "source": [
        "n = int(input('Enter the value of n : '))\n",
        "fact = 1\n",
        "for i in range(1, n+1):\n",
        "  fact *= i\n",
        "print('Factorial of {} is {}'.format(n, fact))"
      ],
      "metadata": {
        "colab": {
          "base_uri": "https://localhost:8080/"
        },
        "id": "7ojhXiVn70cv",
        "outputId": "bfd3c1d9-6cf8-4fba-e09f-7a3cb99caca2"
      },
      "execution_count": null,
      "outputs": [
        {
          "output_type": "stream",
          "name": "stdout",
          "text": [
            "Enter the value of n : 5\n",
            "Factorial of 5 is 120\n"
          ]
        }
      ]
    },
    {
      "cell_type": "markdown",
      "source": [
        "q. Write a Python program that prompts the user to enter a password. Continue asking for the password until it matches a predefined password."
      ],
      "metadata": {
        "id": "Y6EhkKDi-WRx"
      }
    },
    {
      "cell_type": "code",
      "source": [
        "original_password = 'python'\n",
        "user_input = ''\n",
        "\n",
        "while user_input != original_password:\n",
        "  user_input = input('Enter a password : ')\n",
        "  if user_input != original_password:\n",
        "    print('Login Unsuccessful')\n",
        "print('Login Successful')"
      ],
      "metadata": {
        "colab": {
          "base_uri": "https://localhost:8080/"
        },
        "id": "WL2KIz699oFj",
        "outputId": "a572ecd8-eda5-40bf-d412-f841df976192"
      },
      "execution_count": null,
      "outputs": [
        {
          "output_type": "stream",
          "name": "stdout",
          "text": [
            "Enter a password : tiger\n",
            "Login Unsuccessful\n",
            "Enter a password : hello\n",
            "Login Unsuccessful\n",
            "Enter a password : python\n",
            "Login Successful\n"
          ]
        }
      ]
    },
    {
      "cell_type": "markdown",
      "source": [
        "Q. Write a Python program that displays a menu with options for addition, subtraction, multiplication, and division. Prompt the user to choose an option, then ask for two numbers and perform the selected operation. Continue until the user chooses to exit."
      ],
      "metadata": {
        "id": "0_1L9lRX_lEv"
      }
    },
    {
      "cell_type": "code",
      "source": [
        "while True:\n",
        "  print(\"Simple Calculator\")\n",
        "  print(\"1. Addition\\n2. Subtraction\\n3. Multiplication\\n4. Division\\n5. Exit\")\n",
        "  choice = int(input('Choose the operation : '))\n",
        "  if choice == 5:\n",
        "    break\n",
        "\n",
        "  num1 = int(input('Enter the number 1 : '))\n",
        "  num2 = int(input('Enter the number 2 : '))\n",
        "\n",
        "  if choice == 1:\n",
        "    result = num1 + num2\n",
        "    print(\"Addition :\", result)\n",
        "  elif choice == 2:\n",
        "    result = num1 - num2\n",
        "    print(\"Subtraction :\", result)\n",
        "  elif choice == 3:\n",
        "    result = num1 * num2\n",
        "    print(\"Multiplication :\", result)\n",
        "  elif choice == 4:\n",
        "    result = num1 / num2\n",
        "    print(\"Division :\", round(result, 2))\n",
        "  else:\n",
        "    print(\"Invalid choice, try again\")"
      ],
      "metadata": {
        "id": "9BEEhlPC_VXY",
        "colab": {
          "base_uri": "https://localhost:8080/"
        },
        "outputId": "b3aa2b47-745e-4a92-bbdd-f12e9916250c"
      },
      "execution_count": null,
      "outputs": [
        {
          "name": "stdout",
          "output_type": "stream",
          "text": [
            "Simple Calculator\n",
            "1. Addition\n",
            "2. Subtraction\n",
            "3. Multiplication\n",
            "4. Division\n",
            "5. Exit\n",
            "Choose the operation : 2\n",
            "Enter the number 1 : 45\n",
            "Enter the number 2 : 32\n",
            "Subtraction : 13\n",
            "Simple Calculator\n",
            "1. Addition\n",
            "2. Subtraction\n",
            "3. Multiplication\n",
            "4. Division\n",
            "5. Exit\n",
            "Choose the operation : 5\n"
          ]
        }
      ]
    },
    {
      "cell_type": "code",
      "source": [],
      "metadata": {
        "id": "UieuL3WhJu_p"
      },
      "execution_count": null,
      "outputs": []
    }
  ]
}