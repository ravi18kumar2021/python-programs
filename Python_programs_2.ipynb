{
  "nbformat": 4,
  "nbformat_minor": 0,
  "metadata": {
    "colab": {
      "provenance": [],
      "authorship_tag": "ABX9TyOwklmkBo8ti74QdTYLGlOQ",
      "include_colab_link": true
    },
    "kernelspec": {
      "name": "python3",
      "display_name": "Python 3"
    },
    "language_info": {
      "name": "python"
    }
  },
  "cells": [
    {
      "cell_type": "markdown",
      "metadata": {
        "id": "view-in-github",
        "colab_type": "text"
      },
      "source": [
        "<a href=\"https://colab.research.google.com/github/ravi18kumar2021/python-programs/blob/main/Python_programs_2.ipynb\" target=\"_parent\"><img src=\"https://colab.research.google.com/assets/colab-badge.svg\" alt=\"Open In Colab\"/></a>"
      ]
    },
    {
      "cell_type": "markdown",
      "source": [
        "## if-else\n",
        "Q. Write a Python program that checks if a user-provided secret code matches a predefined code. If it matches, print \"Access Granted\"; otherwise, print \"Access Denied\"."
      ],
      "metadata": {
        "id": "8Aqm7tlzLWdf"
      }
    },
    {
      "cell_type": "code",
      "execution_count": 1,
      "metadata": {
        "colab": {
          "base_uri": "https://localhost:8080/"
        },
        "id": "Ngy2y8dFLSir",
        "outputId": "c5bd2dea-18db-4928-953a-c88c7e871cec"
      },
      "outputs": [
        {
          "output_type": "stream",
          "name": "stdout",
          "text": [
            "Enter the secret code : 34561\n",
            "Access Denied\n"
          ]
        }
      ],
      "source": [
        "original_code = '54612'\n",
        "provided_code = input('Enter the secret code : ')\n",
        "if provided_code == original_code:\n",
        "  print('Access Granted')\n",
        "else:\n",
        "  print('Access Denied')"
      ]
    },
    {
      "cell_type": "markdown",
      "source": [
        "Q. Write a Python program that advises users on what to wear based on the temperature they input. If the temperature is above 25 degrees Celsius, print \"It's warm outside. Wear light clothes.\"; otherwise, print \"It's cold outside. Wear warm clothes.\""
      ],
      "metadata": {
        "id": "ikMI8U8xMPRj"
      }
    },
    {
      "cell_type": "code",
      "source": [
        "temperature = float(input('Enter the temperature : '))\n",
        "if temperature > 25:\n",
        "  print(\"It's warm outside. Wear light clothes.\")\n",
        "else:\n",
        "  print(\"It's cold outside. Wear warm clothes.\")"
      ],
      "metadata": {
        "colab": {
          "base_uri": "https://localhost:8080/"
        },
        "id": "kp88JdDeL5-K",
        "outputId": "a1056af5-afcc-467b-bcc9-e138c9e2b73d"
      },
      "execution_count": 2,
      "outputs": [
        {
          "output_type": "stream",
          "name": "stdout",
          "text": [
            "Enter the temperature : 28\n",
            "It's warm outside. Wear light clothes.\n"
          ]
        }
      ]
    },
    {
      "cell_type": "markdown",
      "source": [
        "Q. Write a Python program that prompts the user to enter the amount and a coupon code and then applies a discount based on the code entered. If the code matches the first predefined code, apply a 10% discount, similarly for the second predefined code, apply a 20% discount; otherwise, print \"Invalid coupon code\"."
      ],
      "metadata": {
        "id": "C05uxIKBMxfE"
      }
    },
    {
      "cell_type": "code",
      "source": [
        "coupon1 = 'SAVE10'\n",
        "coupon2 = 'SAVE20'\n",
        "amount = int(input('Enter the amount : '))\n",
        "coupon_code = input('Enter a coupon code : ')\n",
        "if coupon_code == coupon1:\n",
        "  discount = 0.1\n",
        "  print('10% discount applied')\n",
        "elif coupon_code == coupon2:\n",
        "  discount = 0.2\n",
        "  print('20% discount applied')\n",
        "else:\n",
        "  discount = 0\n",
        "  print('No discount applied')\n",
        "price = amount - amount * discount\n",
        "print('Total price :', price)"
      ],
      "metadata": {
        "colab": {
          "base_uri": "https://localhost:8080/"
        },
        "id": "s710jMigMpRv",
        "outputId": "7d2914ac-1daf-475b-e2be-99cb440ea25d"
      },
      "execution_count": 3,
      "outputs": [
        {
          "output_type": "stream",
          "name": "stdout",
          "text": [
            "Enter the amount : 450\n",
            "Enter a coupon code : FREE\n",
            "No discount applied\n",
            "Total price : 450\n"
          ]
        }
      ]
    },
    {
      "cell_type": "markdown",
      "source": [
        "Q. Write a Python program to calculate the Body Mass Index (BMI) of a person based on their height and weight, and classify them as underweight, normal, overweight, or obese."
      ],
      "metadata": {
        "id": "al4y-uk5TLjL"
      }
    },
    {
      "cell_type": "code",
      "source": [
        "height = float(input('Enter the height in meters : '))\n",
        "weight = float(input('Enter the weight in kilograms : '))\n",
        "bmi = weight / (height ** 2)\n",
        "\n",
        "if bmi < 18.5:\n",
        "  print('Underweight')\n",
        "elif bmi < 25:\n",
        "  print('Normal')\n",
        "elif bmi < 30:\n",
        "  print('Overweight')\n",
        "else:\n",
        "  print('Obese')"
      ],
      "metadata": {
        "colab": {
          "base_uri": "https://localhost:8080/"
        },
        "id": "b2B_lmotPZ2e",
        "outputId": "002e7736-90f5-45aa-b77a-af541a5d5cea"
      },
      "execution_count": 4,
      "outputs": [
        {
          "output_type": "stream",
          "name": "stdout",
          "text": [
            "Enter the height in meters : 1.72\n",
            "Enter the weight in kilograms : 65\n",
            "Normal\n"
          ]
        }
      ]
    },
    {
      "cell_type": "markdown",
      "source": [
        "Q. Write a Python program that calculates the income tax for a person based on their income. Apply different tax rates depending on the income brackets."
      ],
      "metadata": {
        "id": "aO7PYjieT8x1"
      }
    },
    {
      "cell_type": "code",
      "source": [
        "income = int(input('Enter the yearly income : '))\n",
        "\n",
        "if income < 100000:\n",
        "  tax = 0\n",
        "elif income < 200000:\n",
        "  tax = 0.1\n",
        "elif income < 500000:\n",
        "  tax = 0.2\n",
        "elif income < 1000000:\n",
        "  tax = 0.3\n",
        "else:\n",
        "  tax = 0.5\n",
        "income_tax = tax * income\n",
        "print('Income tax', income_tax)"
      ],
      "metadata": {
        "colab": {
          "base_uri": "https://localhost:8080/"
        },
        "id": "qF9-uYDYTycu",
        "outputId": "7d6da348-ead7-4788-e876-517cc36a44d7"
      },
      "execution_count": 5,
      "outputs": [
        {
          "output_type": "stream",
          "name": "stdout",
          "text": [
            "Enter the yearly income : 250000\n",
            "Income tax 50000.0\n"
          ]
        }
      ]
    },
    {
      "cell_type": "markdown",
      "source": [
        "Q. Write a Python program to determine if a person is eligible for a loan based on their income and credit score. If the income is above a certain threshold and the credit score is good, print \"Loan approved\"; otherwise, print \"Loan not approved\"."
      ],
      "metadata": {
        "id": "P2kW5L9ZVh04"
      }
    },
    {
      "cell_type": "code",
      "source": [
        "income = int(input(\"Enter the monthly income : \"))\n",
        "credit_score = int(input(\"Enter the credit score : \"))\n",
        "\n",
        "if income > 40000 and credit_score > 600:\n",
        "  print('Loan Approved')\n",
        "else:\n",
        "  print('Loan not Approved')"
      ],
      "metadata": {
        "colab": {
          "base_uri": "https://localhost:8080/"
        },
        "id": "pns67GthVHgN",
        "outputId": "bf2fba72-fe2c-42a4-893c-964f7c09c573"
      },
      "execution_count": 7,
      "outputs": [
        {
          "output_type": "stream",
          "name": "stdout",
          "text": [
            "Enter the monthly income : 55000\n",
            "Enter the credit score : 750\n",
            "Loan Approved\n"
          ]
        }
      ]
    },
    {
      "cell_type": "markdown",
      "source": [
        "Q. Write a Python program that simulates a traffic light. Prompt the user to input the color of the traffic light and then print a message indicating whether it's safe to cross the street or not."
      ],
      "metadata": {
        "id": "4q6_nn_PoW1a"
      }
    },
    {
      "cell_type": "code",
      "source": [
        "color = input('Enter the color of traffic light :')\n",
        "if color == 'red':\n",
        "  print(\"Stop! It's not safe to cross.\")\n",
        "elif color == 'yellow':\n",
        "  print(\"Proceed with caution\")\n",
        "elif color == 'green':\n",
        "  print(\"Go ahead! It's safe to cross.\")\n",
        "else:\n",
        "  print(\"Invalid color. Please enter red, yellow or green.\")"
      ],
      "metadata": {
        "colab": {
          "base_uri": "https://localhost:8080/"
        },
        "id": "alhV0n8OWGmI",
        "outputId": "8d763eb6-7775-4ffe-8789-65ae60ac50d2"
      },
      "execution_count": 8,
      "outputs": [
        {
          "output_type": "stream",
          "name": "stdout",
          "text": [
            "Enter the color of traffic light :yellow\n",
            "Proceed with caution\n"
          ]
        }
      ]
    }
  ]
}